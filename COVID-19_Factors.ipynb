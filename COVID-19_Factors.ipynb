{
 "cells": [
  {
   "cell_type": "markdown",
   "metadata": {
    "id": "_c6s8oZpMrRR"
   },
   "source": [
    "# COVID-19 Factors Project"
   ]
  },
  {
   "cell_type": "markdown",
   "metadata": {
    "id": "vLycTOIEv1h6"
   },
   "source": [
    "## Preprocessing\n",
    "\n",
    "We will only look at the first 110 columns, and we will remove the state distance and normalized columns."
   ]
  },
  {
   "cell_type": "code",
   "execution_count": 1,
   "metadata": {
    "id": "dOYJeTKUvvlF"
   },
   "outputs": [],
   "source": [
    "import pandas as pd\n",
    "import numpy as np\n",
    "\n",
    "# Import data\n",
    "df = pd.read_csv('covid_data.csv')\n",
    "\n",
    "# Preprocessing\n",
    "# We will only look at the first 110 columns,\n",
    "# and we will remove the state distance, normalized,\n",
    "# infection and death score, age, demographic,\n",
    "# lockdown type, area, and other categorical columns.\n",
    "df = df.iloc[:,:111]\n",
    "df = df.drop([col for col in df.columns if col[0] == 'd' or 'Norm' in col or 'Score' in col or 'age' in col], axis=1)\n",
    "\n",
    "df = df.drop(['Death-Infected','Lockdown type','Population','area'],axis=1)\n",
    "df = df.drop(['White','Asian','Black','Hispanic','Male','Female','Homeless'],axis=1)\n",
    "df = df.set_index('State')\n",
    "df = df.dropna()"
   ]
  },
  {
   "cell_type": "markdown",
   "metadata": {
    "id": "HT_jmXbjVucf"
   },
   "source": [
    "## 1) Hypothesis Testing\n",
    "Can it be broadly predicted whether the number of confirmed Covid-19 cases and the deaths are more in densely populated areas than in less-densely populated areas in the US?"
   ]
  },
  {
   "cell_type": "code",
   "execution_count": 2,
   "metadata": {
    "colab": {
     "base_uri": "https://localhost:8080/"
    },
    "id": "IkOnoiwndn7z",
    "outputId": "71b7b26d-3f85-43b2-8363-f787534facbf"
   },
   "outputs": [
    {
     "name": "stdout",
     "output_type": "stream",
     "text": [
      "\n",
      "Hypothesis testing-1: Comfirmed covid cases\n",
      "p-value 0.032721466014713006\n",
      "we reject null hypothesis\n",
      "We conclude that densely populated areas have more positive cases than less-dense areas\n",
      "\n",
      "\n",
      "Hypothesis testing-2: Death rates\n",
      "p-value 0.01306272233216489\n",
      "we reject null hypothesis\n",
      "We conclude that densely populated areas have more deaths than less-dense areas\n",
      "\n"
     ]
    }
   ],
   "source": [
    "# QUESTION 1\n",
    "\n",
    "from scipy.stats import mannwhitneyu\n",
    "import matplotlib.pyplot as plt\n",
    "\n",
    "data = df[['Total Cases','Total Death','Population density']]\n",
    "\n",
    "# Hypothesis testing-1\n",
    "# H0 = Densely populated areas do not have more positive cases than less-dense areas (population means are same)\n",
    "# H1 = Densely populated areas have more positive cases than less-dense areas (population means are different)\n",
    "# We assume alpha=0.05\n",
    "# Population density threshold = 2000 persons/sq km\n",
    "\n",
    "# Hypothesis testing-2\n",
    "# H0 = Densely populated areas do not have more deaths than less-dense areas (population means are same)\n",
    "# H1 = Densely populated areas have more deaths than less-dense areas (population means are different)\n",
    "# We assume alpha=0.05\n",
    "# Population density threshold = 2000 persons/sq km\n",
    "\n",
    "threshold = 400\n",
    "\n",
    "deaths_gr = df['Total Death'][df['Population density'] >= threshold].reset_index(drop=True)\n",
    "deaths_ls = df['Total Death'][df['Population density'] < threshold].reset_index(drop=True)\n",
    "conf_cases_gr = df['Total Cases'][df['Population density'] >= threshold].reset_index(drop=True)\n",
    "conf_cases_ls = df['Total Cases'][df['Population density'] < threshold].reset_index(drop=True)\n",
    "\n",
    "u1, pval1 = mannwhitneyu(conf_cases_gr, conf_cases_ls, alternative='greater')\n",
    "u2, pval2 = mannwhitneyu(deaths_gr, deaths_ls, alternative='greater')\n",
    "\n",
    "print()\n",
    "print('Hypothesis testing-1: Comfirmed covid cases')\n",
    "print(\"p-value\",pval1)\n",
    "if pval1 <0.05:\n",
    "    print(\"we reject null hypothesis\")\n",
    "    print(\"We conclude that densely populated areas have more positive cases than less-dense areas\")\n",
    "else:\n",
    "    print(\"we accept null hypothesis\")\n",
    "    print(\"We conclude that densely populated areas donot have more confirmed positive cases\")\n",
    "print()\n",
    "print()\n",
    "\n",
    "\n",
    "print('Hypothesis testing-2: Death rates')\n",
    "print(\"p-value\",pval2)\n",
    "if pval2 <0.05:\n",
    "    print(\"we reject null hypothesis\")\n",
    "    print(\"We conclude that densely populated areas have more deaths than less-dense areas\")\n",
    "else:\n",
    "    print(\"we accept null hypothesis\")\n",
    "    print(\"We conclude that densely populated areas donot have more deaths as compared to less-dense areas\")\n",
    "print()"
   ]
  },
  {
   "cell_type": "markdown",
   "metadata": {
    "id": "JqimsKBCtqJe"
   },
   "source": [
    "## 2) Regression"
   ]
  },
  {
   "cell_type": "code",
   "execution_count": 3,
   "metadata": {
    "colab": {
     "base_uri": "https://localhost:8080/"
    },
    "id": "pC04MGwwS5dI",
    "outputId": "ac4c48e2-41be-45fc-95c7-c86a13211adb"
   },
   "outputs": [
    {
     "name": "stdout",
     "output_type": "stream",
     "text": [
      "CASES\n",
      "Optimal ridge regression parameter: 1\n",
      "Mean-squared error:\n",
      "0.44780686907646405\n",
      "Regression coefficients by feature:\n",
      "Busy airport score    0.497705\n",
      "Population density    0.435904\n",
      "GDPs                  0.151086\n",
      "Day lockdown         -0.145167\n",
      "Health                0.000992\n",
      "dtype: float64\n",
      "\n",
      "\n",
      "DEATHS\n",
      "Optimal ridge regression parameter: 1\n",
      "Mean-squared error:\n",
      "0.358969066175445\n",
      "Regression coefficients by feature:\n",
      "Population density    0.572025\n",
      "Busy airport score    0.541179\n",
      "Day lockdown         -0.136628\n",
      "GDPs                 -0.094627\n",
      "Health                0.003151\n",
      "dtype: float64\n"
     ]
    }
   ],
   "source": [
    "# QUESTION 2\n",
    "\n",
    "import matplotlib.pyplot as plt\n",
    "from sklearn.linear_model import Ridge\n",
    "from sklearn.metrics import mean_squared_error\n",
    "from sklearn.model_selection import train_test_split\n",
    "\n",
    "from sklearn.preprocessing import StandardScaler\n",
    "\n",
    "# normalize the data\n",
    "scaler = StandardScaler()\n",
    "cols = df.columns\n",
    "df = pd.DataFrame(scaler.fit_transform(df),columns=cols)\n",
    "\n",
    "# Model 1: COVID-19 Cases\n",
    "x = df.drop(['Total Cases','Total Death'], axis=1)\n",
    "y = df['Total Cases']\n",
    "covariates = x.columns\n",
    "\n",
    "# train-test split\n",
    "x_train, x_test, y_train, y_test = train_test_split(x,y,train_size=0.8,random_state=1)\n",
    "\n",
    "alphas = [1e-3,1e-2,1e-1,1]\n",
    "pred_mses = []\n",
    "\n",
    "# find optimal regularization parameter\n",
    "for alpha in alphas:\n",
    "    regr = Ridge(alpha=alpha)\n",
    "    regr.fit(x_train,y_train)\n",
    "\n",
    "    y_pred = regr.predict(x_test)\n",
    "\n",
    "    pred_mse = mean_squared_error(y_pred,y_test)\n",
    "    pred_mses.append(pred_mse)\n",
    "\n",
    "# print output for cases\n",
    "print(\"CASES\")\n",
    "min_mse = min(pred_mses)\n",
    "optimal_alpha = alphas[pred_mses.index(min_mse)]\n",
    "print(\"Optimal ridge regression parameter: \" + str(optimal_alpha))\n",
    "\n",
    "regr = Ridge(alpha=optimal_alpha)\n",
    "regr.fit(x_train,y_train)\n",
    "pred_mse = mean_squared_error(y_pred,y_test)\n",
    "coefs = pd.Series(regr.coef_)\n",
    "coefs.index = covariates\n",
    "coefs = coefs[coefs.abs().sort_values(ascending=False).index]\n",
    "print(\"Mean-squared error:\")\n",
    "print(pred_mse)\n",
    "print(\"Regression coefficients by feature:\")\n",
    "print(coefs)\n",
    "print()\n",
    "print()\n",
    "\n",
    "# Model 2: COVID-19 Deaths\n",
    "y = df['Total Death']\n",
    "\n",
    "x_train, x_test, y_train, y_test = train_test_split(x,y,train_size=0.8,random_state=1)\n",
    "\n",
    "alphas = [1e-3,1e-2,1e-1,1]\n",
    "pred_mses = []\n",
    "\n",
    "for alpha in alphas:\n",
    "    regr = Ridge(alpha=alpha)\n",
    "    regr.fit(x_train,y_train)\n",
    "\n",
    "    y_pred = regr.predict(x_test)\n",
    "\n",
    "    pred_mse = mean_squared_error(y_pred,y_test)\n",
    "    pred_mses.append(pred_mse)\n",
    "\n",
    "print(\"DEATHS\")\n",
    "min_mse = min(pred_mses)\n",
    "optimal_alpha = alphas[pred_mses.index(min_mse)]\n",
    "print(\"Optimal ridge regression parameter: \" + str(optimal_alpha))\n",
    "\n",
    "regr = Ridge(alpha=optimal_alpha)\n",
    "regr.fit(x_train,y_train)\n",
    "pred_mse = mean_squared_error(y_pred,y_test)\n",
    "coefs = pd.Series(regr.coef_)\n",
    "coefs.index = covariates\n",
    "coefs = coefs[coefs.abs().sort_values(ascending=False).index]\n",
    "print(\"Mean-squared error:\")\n",
    "print(pred_mse)\n",
    "print(\"Regression coefficients by feature:\")\n",
    "print(coefs)"
   ]
  },
  {
   "cell_type": "markdown",
   "metadata": {
    "id": "zSlGilSV1yY3"
   },
   "source": [
    "## 3) Clustering\n",
    "\n",
    "Can the states be clustered into distinct groups based on the covariates in the dataset?"
   ]
  },
  {
   "cell_type": "markdown",
   "metadata": {
    "id": "5W-zww1qSy6X"
   },
   "source": [
    "### PCA\n",
    "We find 2 principal components above the Kaiser criterion line."
   ]
  },
  {
   "cell_type": "code",
   "execution_count": 4,
   "metadata": {
    "colab": {
     "base_uri": "https://localhost:8080/",
     "height": 1000
    },
    "id": "MtMPssKH51z4",
    "outputId": "6b4cfea9-7b54-426e-858e-08bc102214b2"
   },
   "outputs": [
    {
     "data": {
      "image/png": "[encoded data removed]",
      "text/plain": [
       "<Figure size 432x288 with 1 Axes>"
      ]
     },
     "metadata": {
      "needs_background": "light"
     },
     "output_type": "display_data"
    },
    {
     "name": "stdout",
     "output_type": "stream",
     "text": [
      "Number of principal components above Kaiser criterion: 2\n"
     ]
    }
   ],
   "source": [
    "# QUESTION 3\n",
    "\n",
    "from scipy import stats\n",
    "from sklearn.decomposition import PCA\n",
    "\n",
    "num_features = df.shape[1]\n",
    "\n",
    "# do PCA since data already z-scored\n",
    "pca = PCA(random_state=1).fit(df)\n",
    "# find eigenvalues\n",
    "eigVals = pca.explained_variance_\n",
    "# get loadings\n",
    "loadings = pca.components_ *-1\n",
    "# rotate data to new coordinate system\n",
    "rotatedData = pca.fit_transform(df) *-1\n",
    "\n",
    "# scree plot\n",
    "plt.bar(np.linspace(1,num_features,num_features),eigVals)\n",
    "plt.xlabel('Principal component')\n",
    "plt.ylabel('Eigenvalue')\n",
    "plt.title('Scree plot')\n",
    "plt.plot([0,7.75],[1,1],color='red',linewidth=1,label=\"Kaiser criterion\") # Kaiser criterion line\n",
    "plt.legend()\n",
    "plt.xlim([0.25,7.75])\n",
    "plt.savefig('scree.jpg')\n",
    "plt.show()\n",
    "\n",
    "# number of principal components above the Kaiser criterion line\n",
    "num_interp_comps = eigVals[eigVals > 1].size\n",
    "print(\"Number of principal components above Kaiser criterion: \" + str(num_interp_comps))"
   ]
  },
  {
   "cell_type": "markdown",
   "metadata": {
    "id": "eUQbTqdjfFoU"
   },
   "source": [
    "### Interpreting Principal Components\n",
    "Though the principal components are difficult to interpret, we can surmise the following:\n",
    "\n",
    "1. Low cases/deaths, not much activity, low GDP\n",
    "2. Sparsely populated, unhealthy"
   ]
  },
  {
   "cell_type": "code",
   "execution_count": 5,
   "metadata": {
    "colab": {
     "base_uri": "https://localhost:8080/"
    },
    "id": "BbOYGgikfEcj",
    "outputId": "d8b9f103-2f42-407c-c773-e2b046caf0e1"
   },
   "outputs": [
    {
     "name": "stdout",
     "output_type": "stream",
     "text": [
      "Component: 1\n",
      "Points towards:\n",
      "['GDPs', 'Total Cases', 'Total Death', 'Day lockdown', 'Population density', 'Busy airport score', 'Health']\n",
      "[0.         0.         0.         0.         0.         0.\n",
      " 0.11788629]\n",
      "\n",
      "Points away:\n",
      "['Total Cases', 'Total Death', 'Busy airport score', 'GDPs', 'Population density', 'Day lockdown', 'Health']\n",
      "[-0.49865751 -0.46266325 -0.45404    -0.42604508 -0.33599045 -0.15109571\n",
      "  0.        ]\n",
      "\n",
      "\n",
      "Component: 2\n",
      "Points towards:\n",
      "['Health', 'Total Cases', 'Total Death', 'Population density', 'Day lockdown', 'Busy airport score', 'GDPs']\n",
      "[0.         0.         0.         0.         0.14255182 0.27027089\n",
      " 0.31304487]\n",
      "\n",
      "Points away:\n",
      "['Health', 'Population density', 'Total Death', 'Total Cases', 'GDPs', 'Day lockdown', 'Busy airport score']\n",
      "[-0.67774686 -0.50999397 -0.27380465 -0.11929752  0.          0.\n",
      "  0.        ]\n",
      "\n",
      "\n"
     ]
    }
   ],
   "source": [
    "import copy\n",
    "\n",
    "# interpreting the components\n",
    "for comp in range(num_interp_comps):\n",
    "    print(\"Component: \" + str(comp+1))\n",
    "    toward = copy.deepcopy(loadings[comp,:])\n",
    "    away = copy.deepcopy(loadings[comp,:])\n",
    "    toward[toward < 0] = 0\n",
    "    away[away > 0] = 0\n",
    "    sorted_toward_idx = np.argsort(toward)\n",
    "    sorted_away_idx = np.argsort(away)\n",
    "    print(\"Points towards:\")\n",
    "    print(list(df.columns[sorted_toward_idx]))\n",
    "    print(toward[sorted_toward_idx])\n",
    "    print()\n",
    "    print(\"Points away:\")\n",
    "    print(list(df.columns[sorted_away_idx]))\n",
    "    print(away[sorted_away_idx])\n",
    "    print()\n",
    "    print()"
   ]
  },
  {
   "cell_type": "markdown",
   "metadata": {
    "id": "NPugTNV0SuFH"
   },
   "source": [
    "Clustering"
   ]
  },
  {
   "cell_type": "code",
   "execution_count": 6,
   "metadata": {
    "colab": {
     "base_uri": "https://localhost:8080/",
     "height": 651
    },
    "id": "XW5J783bIzgL",
    "outputId": "f4887e6d-c871-4589-c72b-feff82cc5262"
   },
   "outputs": [
    {
     "name": "stdout",
     "output_type": "stream",
     "text": [
      "Optimal number of clusters: 2\n"
     ]
    },
    {
     "data": {
      "image/png": "[encoded data removed]",
      "text/plain": [
       "<Figure size 432x288 with 1 Axes>"
      ]
     },
     "metadata": {
      "needs_background": "light"
     },
     "output_type": "display_data"
    }
   ],
   "source": [
    "from sklearn.cluster import KMeans\n",
    "from sklearn.metrics import silhouette_samples\n",
    "\n",
    "# get rotated data\n",
    "X = rotatedData[:,:num_interp_comps]\n",
    "\n",
    "# silhouette method:\n",
    "numClusters = 10\n",
    "Q = np.empty([numClusters,1])\n",
    "\n",
    "for ii in range(2, 2+numClusters):\n",
    "    kMeans = KMeans(n_clusters = int(ii)).fit(X)\n",
    "    cId = kMeans.labels_\n",
    "    s = silhouette_samples(X,cId)\n",
    "    Q[ii-2] = sum(s)\n",
    "\n",
    "# optimal number of clusters\n",
    "optimal_clusters = np.argmax(Q) + 2\n",
    "# perform kMeans\n",
    "kMeans = KMeans(n_clusters = optimal_clusters).fit(X)\n",
    "# cluster ID for each state\n",
    "cId = kMeans.labels_\n",
    "# coordinates for each cluster center\n",
    "cCoords = kMeans.cluster_centers_\n",
    "\n",
    "print(\"Optimal number of clusters: \" + str(optimal_clusters))\n",
    "\n",
    "plt.clf()\n",
    "\n",
    "comp1 = \"Low cases/deaths, low activity, low GDP\"\n",
    "comp2 = \"Sparsely populated, unhealthy\"\n",
    "\n",
    "# plot color-coded k-means clusters\n",
    "indexVector = np.linspace(1,len(np.unique(cId)),len(np.unique(cId)))\n",
    "for ii in indexVector:\n",
    "    plotIndex = np.argwhere(cId == int(ii-1))\n",
    "    plt.plot(rotatedData[plotIndex,0],rotatedData[plotIndex,1],'o',markersize=5)\n",
    "    plt.plot(cCoords[int(ii-1),0],cCoords[int(ii-1),1],'^',markersize=7,color='black')  \n",
    "plt.xlabel(comp1)\n",
    "plt.ylabel(comp2)\n",
    "plt.title(\"k-means clustered data\")\n",
    "plt.plot([],[],'^',markersize=7,color='black',label=\"Cluster centers\")  \n",
    "plt.legend()\n",
    "plt.savefig('clusters.jpg')\n",
    "plt.show()"
   ]
  }
 ],
 "metadata": {
  "colab": {
   "collapsed_sections": [],
   "name": "DS_Capstone.ipynb",
   "provenance": []
  },
  "kernelspec": {
   "display_name": "Python 3 (ipykernel)",
   "language": "python",
   "name": "python3"
  },
  "language_info": {
   "codemirror_mode": {
    "name": "ipython",
    "version": 3
   },
   "file_extension": ".py",
   "mimetype": "text/x-python",
   "name": "python",
   "nbconvert_exporter": "python",
   "pygments_lexer": "ipython3",
   "version": "3.9.6"
  }
 },
 "nbformat": 4,
 "nbformat_minor": 4
}
